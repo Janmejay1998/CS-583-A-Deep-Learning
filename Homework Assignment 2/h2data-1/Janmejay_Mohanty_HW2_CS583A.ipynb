{
 "cells": [
  {
   "attachments": {},
   "cell_type": "markdown",
   "id": "fc646dd1",
   "metadata": {},
   "source": [
    "###### NAME: JANMEJAY MOHANTY <br> COURSE: CS 583 A <br> COURSE NAME: DEEP LEARNING <br> CWID: 20009315 <br> EMAIL: JMOHANTY@STEVENS.EDU"
   ]
  },
  {
   "cell_type": "code",
   "execution_count": 806,
   "id": "ef3dd980",
   "metadata": {
    "id": "ef3dd980"
   },
   "outputs": [],
   "source": [
    "import pandas as pd\n",
    "import numpy as np\n",
    "import random\n",
    "import keras.backend as K\n",
    "K.clear_session()\n",
    "from keras.models import Model\n",
    "from keras.layers import Input, Embedding, LSTM, Dense\n",
    "from tensorflow.keras.optimizers import Adam\n",
    "from tensorflow.keras.preprocessing.sequence import pad_sequences"
   ]
  },
  {
   "cell_type": "code",
   "execution_count": 807,
   "id": "23d8fb02",
   "metadata": {
    "colab": {
     "base_uri": "https://localhost:8080/"
    },
    "id": "23d8fb02",
    "outputId": "1529d3bb-1de9-40d2-e117-c8eedc0e4d1b"
   },
   "outputs": [
    {
     "name": "stderr",
     "output_type": "stream",
     "text": [
      "'ls' is not recognized as an internal or external command,\n",
      "operable program or batch file.\n"
     ]
    }
   ],
   "source": [
    "#Please make sure that both h3data folder and this ipython notebook are in same path/folder\n",
    "!ls | grep \"h3data\""
   ]
  },
  {
   "cell_type": "code",
   "execution_count": 808,
   "id": "e989d166",
   "metadata": {
    "colab": {
     "base_uri": "https://localhost:8080/",
     "height": 204
    },
    "id": "e989d166",
    "outputId": "ead99e26-94ec-4ccf-9b47-09c88c6b3e83"
   },
   "outputs": [
    {
     "data": {
      "text/html": [
       "<div>\n",
       "<style scoped>\n",
       "    .dataframe tbody tr th:only-of-type {\n",
       "        vertical-align: middle;\n",
       "    }\n",
       "\n",
       "    .dataframe tbody tr th {\n",
       "        vertical-align: top;\n",
       "    }\n",
       "\n",
       "    .dataframe thead th {\n",
       "        text-align: right;\n",
       "    }\n",
       "</style>\n",
       "<table border=\"1\" class=\"dataframe\">\n",
       "  <thead>\n",
       "    <tr style=\"text-align: right;\">\n",
       "      <th></th>\n",
       "      <th>Input</th>\n",
       "      <th>output</th>\n",
       "    </tr>\n",
       "  </thead>\n",
       "  <tbody>\n",
       "    <tr>\n",
       "      <th>0</th>\n",
       "      <td>apprehensive</td>\n",
       "      <td>apprehensiveway</td>\n",
       "    </tr>\n",
       "    <tr>\n",
       "      <th>1</th>\n",
       "      <td>desperately</td>\n",
       "      <td>esperatelyday</td>\n",
       "    </tr>\n",
       "    <tr>\n",
       "      <th>2</th>\n",
       "      <td>grew</td>\n",
       "      <td>ewgray</td>\n",
       "    </tr>\n",
       "    <tr>\n",
       "      <th>3</th>\n",
       "      <td>niggardly</td>\n",
       "      <td>iggardlynay</td>\n",
       "    </tr>\n",
       "    <tr>\n",
       "      <th>4</th>\n",
       "      <td>brought</td>\n",
       "      <td>oughtbray</td>\n",
       "    </tr>\n",
       "  </tbody>\n",
       "</table>\n",
       "</div>"
      ],
      "text/plain": [
       "          Input           output\n",
       "0  apprehensive  apprehensiveway\n",
       "1   desperately    esperatelyday\n",
       "2          grew           ewgray\n",
       "3     niggardly      iggardlynay\n",
       "4       brought        oughtbray"
      ]
     },
     "execution_count": 808,
     "metadata": {},
     "output_type": "execute_result"
    }
   ],
   "source": [
    "data = pd.read_csv('./h3data/data.txt', sep=\" \", header=None)\n",
    "data.columns = [\"Input\", \"output\"]\n",
    "data.head()"
   ]
  },
  {
   "cell_type": "code",
   "execution_count": 809,
   "id": "80fb0dd1",
   "metadata": {
    "colab": {
     "base_uri": "https://localhost:8080/",
     "height": 204
    },
    "id": "80fb0dd1",
    "outputId": "3580d8ae-ebd8-4f09-c963-cf9e663b85d7"
   },
   "outputs": [
    {
     "data": {
      "text/html": [
       "<div>\n",
       "<style scoped>\n",
       "    .dataframe tbody tr th:only-of-type {\n",
       "        vertical-align: middle;\n",
       "    }\n",
       "\n",
       "    .dataframe tbody tr th {\n",
       "        vertical-align: top;\n",
       "    }\n",
       "\n",
       "    .dataframe thead th {\n",
       "        text-align: right;\n",
       "    }\n",
       "</style>\n",
       "<table border=\"1\" class=\"dataframe\">\n",
       "  <thead>\n",
       "    <tr style=\"text-align: right;\">\n",
       "      <th></th>\n",
       "      <th>Input</th>\n",
       "      <th>output</th>\n",
       "    </tr>\n",
       "  </thead>\n",
       "  <tbody>\n",
       "    <tr>\n",
       "      <th>0</th>\n",
       "      <td>a p p r e h e n s i v e</td>\n",
       "      <td>a p p r e h e n s i v e w a y</td>\n",
       "    </tr>\n",
       "    <tr>\n",
       "      <th>1</th>\n",
       "      <td>d e s p e r a t e l y</td>\n",
       "      <td>e s p e r a t e l y d a y</td>\n",
       "    </tr>\n",
       "    <tr>\n",
       "      <th>2</th>\n",
       "      <td>g r e w</td>\n",
       "      <td>e w g r a y</td>\n",
       "    </tr>\n",
       "    <tr>\n",
       "      <th>3</th>\n",
       "      <td>n i g g a r d l y</td>\n",
       "      <td>i g g a r d l y n a y</td>\n",
       "    </tr>\n",
       "    <tr>\n",
       "      <th>4</th>\n",
       "      <td>b r o u g h t</td>\n",
       "      <td>o u g h t b r a y</td>\n",
       "    </tr>\n",
       "  </tbody>\n",
       "</table>\n",
       "</div>"
      ],
      "text/plain": [
       "                     Input                         output\n",
       "0  a p p r e h e n s i v e  a p p r e h e n s i v e w a y\n",
       "1    d e s p e r a t e l y      e s p e r a t e l y d a y\n",
       "2                  g r e w                    e w g r a y\n",
       "3        n i g g a r d l y          i g g a r d l y n a y\n",
       "4            b r o u g h t              o u g h t b r a y"
      ]
     },
     "execution_count": 809,
     "metadata": {},
     "output_type": "execute_result"
    }
   ],
   "source": [
    "#You can consider each character as a word and train a RNN model to predict the output for a given input\n",
    "data[\"Input\"] = data[\"Input\"].astype(str).apply(lambda x:\" \".join(list(x)))\n",
    "data[\"output\"] = data[\"output\"].astype(str).apply(lambda x:\" \".join(list(x)))\n",
    "data.head()"
   ]
  },
  {
   "cell_type": "code",
   "execution_count": 810,
   "id": "iktjg7rVpezG",
   "metadata": {
    "colab": {
     "base_uri": "https://localhost:8080/",
     "height": 204
    },
    "id": "iktjg7rVpezG",
    "outputId": "2db4d133-c767-48b4-ef91-0d519d1b3a68"
   },
   "outputs": [
    {
     "data": {
      "text/html": [
       "<div>\n",
       "<style scoped>\n",
       "    .dataframe tbody tr th:only-of-type {\n",
       "        vertical-align: middle;\n",
       "    }\n",
       "\n",
       "    .dataframe tbody tr th {\n",
       "        vertical-align: top;\n",
       "    }\n",
       "\n",
       "    .dataframe thead th {\n",
       "        text-align: right;\n",
       "    }\n",
       "</style>\n",
       "<table border=\"1\" class=\"dataframe\">\n",
       "  <thead>\n",
       "    <tr style=\"text-align: right;\">\n",
       "      <th></th>\n",
       "      <th>Encoder Input</th>\n",
       "      <th>Output</th>\n",
       "      <th>Decoder Input</th>\n",
       "    </tr>\n",
       "  </thead>\n",
       "  <tbody>\n",
       "    <tr>\n",
       "      <th>0</th>\n",
       "      <td>a p p r e h e n s i v e</td>\n",
       "      <td>a p p r e h e n s i v e w a y</td>\n",
       "      <td>&lt;start&gt; a p p r e h e n s i v e w a</td>\n",
       "    </tr>\n",
       "    <tr>\n",
       "      <th>1</th>\n",
       "      <td>d e s p e r a t e l y</td>\n",
       "      <td>e s p e r a t e l y d a y</td>\n",
       "      <td>&lt;start&gt; e s p e r a t e l y d a</td>\n",
       "    </tr>\n",
       "    <tr>\n",
       "      <th>2</th>\n",
       "      <td>g r e w</td>\n",
       "      <td>e w g r a y</td>\n",
       "      <td>&lt;start&gt; e w g r a</td>\n",
       "    </tr>\n",
       "    <tr>\n",
       "      <th>3</th>\n",
       "      <td>n i g g a r d l y</td>\n",
       "      <td>i g g a r d l y n a y</td>\n",
       "      <td>&lt;start&gt; i g g a r d l y n a</td>\n",
       "    </tr>\n",
       "    <tr>\n",
       "      <th>4</th>\n",
       "      <td>b r o u g h t</td>\n",
       "      <td>o u g h t b r a y</td>\n",
       "      <td>&lt;start&gt; o u g h t b r a</td>\n",
       "    </tr>\n",
       "  </tbody>\n",
       "</table>\n",
       "</div>"
      ],
      "text/plain": [
       "             Encoder Input                         Output  \\\n",
       "0  a p p r e h e n s i v e  a p p r e h e n s i v e w a y   \n",
       "1    d e s p e r a t e l y      e s p e r a t e l y d a y   \n",
       "2                  g r e w                    e w g r a y   \n",
       "3        n i g g a r d l y          i g g a r d l y n a y   \n",
       "4            b r o u g h t              o u g h t b r a y   \n",
       "\n",
       "                          Decoder Input  \n",
       "0  <start> a p p r e h e n s i v e w a   \n",
       "1      <start> e s p e r a t e l y d a   \n",
       "2                    <start> e w g r a   \n",
       "3          <start> i g g a r d l y n a   \n",
       "4              <start> o u g h t b r a   "
      ]
     },
     "execution_count": 810,
     "metadata": {},
     "output_type": "execute_result"
    }
   ],
   "source": [
    "data.columns = (\"Encoder Input\", \"Output\")\n",
    "data[\"Decoder Input\"] = data[\"Output\"].apply(lambda x: \"<start> \"+x[:-1])\n",
    "data.head()"
   ]
  },
  {
   "cell_type": "code",
   "execution_count": 811,
   "id": "036c196f",
   "metadata": {
    "colab": {
     "base_uri": "https://localhost:8080/"
    },
    "id": "036c196f",
    "outputId": "0a00f20c-74e0-4892-eae0-0d1bc58a1754"
   },
   "outputs": [
    {
     "name": "stdout",
     "output_type": "stream",
     "text": [
      "Total number of data points:  6511\n"
     ]
    }
   ],
   "source": [
    "print(\"Total number of data points: \",data.shape[0])"
   ]
  },
  {
   "attachments": {},
   "cell_type": "markdown",
   "id": "b78cca10",
   "metadata": {
    "id": "b78cca10"
   },
   "source": [
    "Split the data.txt into 80% training and 20% and get the accuracy on the test set. [2 Points]\n"
   ]
  },
  {
   "cell_type": "code",
   "execution_count": 812,
   "id": "4e48776e",
   "metadata": {
    "colab": {
     "base_uri": "https://localhost:8080/"
    },
    "id": "4e48776e",
    "outputId": "c39253f9-842c-44c2-e0e7-70443bf303f4"
   },
   "outputs": [
    {
     "name": "stdout",
     "output_type": "stream",
     "text": [
      "(5208, 3)\n",
      "(1303, 3)\n"
     ]
    }
   ],
   "source": [
    "#fill the code to split the data into 80% train and 20% test data\n",
    "random.seed(100)\n",
    "train_index = np.random.choice(data.shape[0]-1,round((data.shape[0]-1)*0.8),replace = False)\n",
    "test_index = [idx for idx in data.index if idx not in train_index]\n",
    "train = data.iloc[train_index,:]\n",
    "test = data.iloc[test_index,:]\n",
    "print(train.shape)\n",
    "print(test.shape)"
   ]
  },
  {
   "cell_type": "code",
   "execution_count": 813,
   "id": "mlUBk3nN4xUx",
   "metadata": {
    "id": "mlUBk3nN4xUx"
   },
   "outputs": [],
   "source": [
    "from collections import defaultdict\n",
    "\n",
    "vocab_list = [\"a\",\"b\",\"c\",\"d\",\"e\",\"f\",\"g\",\"h\",\"i\",\"j\",\"k\",\"l\",\"m\",\"n\",\"o\",\"p\",\"q\",\"r\",\"s\",\"t\",\"u\",\"v\",\"w\",\"x\",\"y\",\"z\",\"-\",\"'\",\"`\",\"<start>\"]\n",
    "\n",
    "vocab = defaultdict(lambda : 0)\n",
    "count = 1\n",
    "\n",
    "\n",
    "for i in vocab_list:\n",
    "  if vocab[i]==0:\n",
    "    vocab[i] = count\n",
    "    count = count + 1"
   ]
  },
  {
   "cell_type": "code",
   "execution_count": 814,
   "id": "98h2keKVAstx",
   "metadata": {
    "colab": {
     "base_uri": "https://localhost:8080/"
    },
    "id": "98h2keKVAstx",
    "outputId": "29135cdc-b47d-4a31-8d97-00da062ba330"
   },
   "outputs": [
    {
     "data": {
      "text/plain": [
       "30"
      ]
     },
     "execution_count": 814,
     "metadata": {},
     "output_type": "execute_result"
    }
   ],
   "source": [
    "len(vocab)"
   ]
  },
  {
   "cell_type": "code",
   "execution_count": 815,
   "id": "4goBqODEAvDY",
   "metadata": {
    "id": "4goBqODEAvDY"
   },
   "outputs": [],
   "source": [
    "X_train_encoder = [ [vocab[char] for char in x.split() if vocab[char] !=0] for x in train[\"Encoder Input\"].values]\n",
    "X_train_decoder = [ [vocab[char] for char in x.split() if vocab[char] !=0] for x in train[\"Decoder Input\"].values]\n",
    "Y_train         = [ [vocab[char] for char in x.split() if vocab[char] !=0] for x in train[\"Output\"].values]\n",
    "\n",
    "X_test_encoder = [ [vocab[char] for char in x.split() if vocab[char] !=0] for x in test[\"Encoder Input\"].values]\n",
    "X_test_decoder = [ [vocab[char] for char in x.split() if vocab[char] !=0] for x in test[\"Decoder Input\"].values]\n",
    "Y_test         = [ [vocab[char] for char in x.split() if vocab[char] !=0] for x in test[\"Output\"].values]"
   ]
  },
  {
   "cell_type": "code",
   "execution_count": 816,
   "id": "Zg3z8bUFCjXK",
   "metadata": {
    "colab": {
     "base_uri": "https://localhost:8080/"
    },
    "id": "Zg3z8bUFCjXK",
    "outputId": "94a09570-6c55-402e-c566-b5f3e1b679e1"
   },
   "outputs": [
    {
     "data": {
      "text/plain": [
       "[13, 9, 19, 3, 8, 9, 5, 22, 15, 21, 19]"
      ]
     },
     "execution_count": 816,
     "metadata": {},
     "output_type": "execute_result"
    }
   ],
   "source": [
    "X_train_encoder[0]"
   ]
  },
  {
   "cell_type": "code",
   "execution_count": 817,
   "id": "9sBkERm_Ck1z",
   "metadata": {
    "colab": {
     "base_uri": "https://localhost:8080/"
    },
    "id": "9sBkERm_Ck1z",
    "outputId": "6ae3c6d8-408b-453d-b1ce-850048498832"
   },
   "outputs": [
    {
     "data": {
      "text/plain": [
       "[30, 9, 19, 3, 8, 9, 5, 22, 15, 21, 19, 13, 1]"
      ]
     },
     "execution_count": 817,
     "metadata": {},
     "output_type": "execute_result"
    }
   ],
   "source": [
    "X_train_decoder[0]"
   ]
  },
  {
   "cell_type": "code",
   "execution_count": 818,
   "id": "cfaxmRSfDRvS",
   "metadata": {
    "colab": {
     "base_uri": "https://localhost:8080/"
    },
    "id": "cfaxmRSfDRvS",
    "outputId": "9fded52e-29ad-4421-d0e5-760b482cc7bf"
   },
   "outputs": [
    {
     "data": {
      "text/plain": [
       "[9, 19, 3, 8, 9, 5, 22, 15, 21, 19, 13, 1, 25]"
      ]
     },
     "execution_count": 818,
     "metadata": {},
     "output_type": "execute_result"
    }
   ],
   "source": [
    "Y_train[0]"
   ]
  },
  {
   "cell_type": "code",
   "execution_count": 819,
   "id": "03ada3cd",
   "metadata": {
    "id": "03ada3cd"
   },
   "outputs": [],
   "source": [
    "X_train_encoder = pad_sequences(X_train_encoder, maxlen=15)\n",
    "X_train_decoder = pad_sequences(X_train_decoder, maxlen=15)\n",
    "Y_train = pad_sequences(Y_train, maxlen=15)\n",
    "\n",
    "X_test_encoder = pad_sequences(X_test_encoder, maxlen=15)\n",
    "X_test_decoder = pad_sequences(X_test_decoder, maxlen=15)\n",
    "Y_test = pad_sequences(Y_test, maxlen=15)"
   ]
  },
  {
   "cell_type": "code",
   "execution_count": 820,
   "id": "5e64da11",
   "metadata": {},
   "outputs": [
    {
     "name": "stdout",
     "output_type": "stream",
     "text": [
      "Model: \"model\"\n",
      "__________________________________________________________________________________________________\n",
      " Layer (type)                   Output Shape         Param #     Connected to                     \n",
      "==================================================================================================\n",
      " input_1 (InputLayer)           [(None, None)]       0           []                               \n",
      "                                                                                                  \n",
      " input_3 (InputLayer)           [(None, None)]       0           []                               \n",
      "                                                                                                  \n",
      " embedding (Embedding)          (None, None, 10)     310         ['input_1[0][0]']                \n",
      "                                                                                                  \n",
      " embedding_1 (Embedding)        (None, None, 10)     310         ['input_3[0][0]']                \n",
      "                                                                                                  \n",
      " lstm (LSTM)                    [(None, 64),         19200       ['embedding[0][0]']              \n",
      "                                 (None, 64),                                                      \n",
      "                                 (None, 64)]                                                      \n",
      "                                                                                                  \n",
      " lstm_1 (LSTM)                  (None, None, 64)     19200       ['embedding_1[0][0]',            \n",
      "                                                                  'lstm[0][1]',                   \n",
      "                                                                  'lstm[0][2]']                   \n",
      "                                                                                                  \n",
      " dense (Dense)                  (None, None, 31)     2015        ['lstm_1[0][0]']                 \n",
      "                                                                                                  \n",
      "==================================================================================================\n",
      "Total params: 41,035\n",
      "Trainable params: 41,035\n",
      "Non-trainable params: 0\n",
      "__________________________________________________________________________________________________\n"
     ]
    }
   ],
   "source": [
    "# Define input and output layers\n",
    "input_layer = Input(shape=(None,))\n",
    "output_layer = Input(shape=(None,))\n",
    "\n",
    "# Define the encoder RNN\n",
    "encoder_embedding = Embedding(input_dim=31, output_dim=10)(input_layer)\n",
    "encoder_rnn, state_h, state_c = LSTM(units=64, return_state=True)(encoder_embedding)\n",
    "encoder_states = [state_h, state_c]\n",
    "\n",
    "# Define the decoder RNN\n",
    "decoder_input = Input(shape=(None,))\n",
    "decoder_embedding = Embedding(input_dim=31, output_dim=10)(decoder_input)\n",
    "decoder_rnn = LSTM(units=64, return_sequences=True)(decoder_embedding, initial_state=encoder_states)\n",
    "decoder_output = Dense(units=31, activation='softmax')(decoder_rnn)\n",
    "\n",
    "# Define the model\n",
    "model = Model(inputs=[input_layer, decoder_input], outputs=decoder_output)\n",
    "model.summary()\n"
   ]
  },
  {
   "attachments": {},
   "cell_type": "markdown",
   "id": "ab7a9c8e",
   "metadata": {},
   "source": [
    "The model is trained via a cross-entropy loss between the decoder distribution \n",
    "and ground-truth at each time step. [2 Points]"
   ]
  },
  {
   "cell_type": "code",
   "execution_count": 821,
   "id": "e28db930",
   "metadata": {},
   "outputs": [],
   "source": [
    "# Compile the model\n",
    "model.compile(optimizer='adam', loss='sparse_categorical_crossentropy', metrics=['accuracy'])"
   ]
  },
  {
   "cell_type": "code",
   "execution_count": 822,
   "id": "45aeb048",
   "metadata": {},
   "outputs": [
    {
     "name": "stdout",
     "output_type": "stream",
     "text": [
      "Epoch 1/30\n",
      "326/326 [==============================] - 6s 10ms/step - loss: 1.8673 - accuracy: 0.4856\n",
      "Epoch 2/30\n",
      "326/326 [==============================] - 4s 11ms/step - loss: 1.3493 - accuracy: 0.5974\n",
      "Epoch 3/30\n",
      "326/326 [==============================] - 4s 11ms/step - loss: 1.2380 - accuracy: 0.6297\n",
      "Epoch 4/30\n",
      "326/326 [==============================] - 3s 10ms/step - loss: 1.1675 - accuracy: 0.6508\n",
      "Epoch 5/30\n",
      "326/326 [==============================] - 4s 11ms/step - loss: 1.1116 - accuracy: 0.6691\n",
      "Epoch 6/30\n",
      "326/326 [==============================] - 4s 12ms/step - loss: 1.0720 - accuracy: 0.6804\n",
      "Epoch 7/30\n",
      "326/326 [==============================] - 4s 12ms/step - loss: 1.0305 - accuracy: 0.6939\n",
      "Epoch 8/30\n",
      "326/326 [==============================] - 4s 12ms/step - loss: 0.9914 - accuracy: 0.7040\n",
      "Epoch 9/30\n",
      "326/326 [==============================] - 4s 13ms/step - loss: 0.9594 - accuracy: 0.7102\n",
      "Epoch 10/30\n",
      "326/326 [==============================] - 4s 13ms/step - loss: 0.9273 - accuracy: 0.7197\n",
      "Epoch 11/30\n",
      "326/326 [==============================] - 4s 12ms/step - loss: 0.8979 - accuracy: 0.7267\n",
      "Epoch 12/30\n",
      "326/326 [==============================] - 4s 12ms/step - loss: 0.8666 - accuracy: 0.7381\n",
      "Epoch 13/30\n",
      "326/326 [==============================] - 4s 13ms/step - loss: 0.8317 - accuracy: 0.7483\n",
      "Epoch 14/30\n",
      "326/326 [==============================] - 4s 12ms/step - loss: 0.7964 - accuracy: 0.7604\n",
      "Epoch 15/30\n",
      "326/326 [==============================] - 4s 12ms/step - loss: 0.7590 - accuracy: 0.7717\n",
      "Epoch 16/30\n",
      "326/326 [==============================] - 4s 12ms/step - loss: 0.7208 - accuracy: 0.7824\n",
      "Epoch 17/30\n",
      "326/326 [==============================] - 4s 13ms/step - loss: 0.6859 - accuracy: 0.7955\n",
      "Epoch 18/30\n",
      "326/326 [==============================] - 4s 12ms/step - loss: 0.6552 - accuracy: 0.8031\n",
      "Epoch 19/30\n",
      "326/326 [==============================] - 4s 12ms/step - loss: 0.6236 - accuracy: 0.8141\n",
      "Epoch 20/30\n",
      "326/326 [==============================] - 4s 12ms/step - loss: 0.5996 - accuracy: 0.8205\n",
      "Epoch 21/30\n",
      "326/326 [==============================] - 4s 12ms/step - loss: 0.5717 - accuracy: 0.8294\n",
      "Epoch 22/30\n",
      "326/326 [==============================] - 4s 12ms/step - loss: 0.5462 - accuracy: 0.8364\n",
      "Epoch 23/30\n",
      "326/326 [==============================] - 3s 10ms/step - loss: 0.5261 - accuracy: 0.8420\n",
      "Epoch 24/30\n",
      "326/326 [==============================] - 3s 10ms/step - loss: 0.4983 - accuracy: 0.8515\n",
      "Epoch 25/30\n",
      "326/326 [==============================] - 3s 10ms/step - loss: 0.4771 - accuracy: 0.8575\n",
      "Epoch 26/30\n",
      "326/326 [==============================] - 3s 10ms/step - loss: 0.4548 - accuracy: 0.8637\n",
      "Epoch 27/30\n",
      "326/326 [==============================] - 3s 10ms/step - loss: 0.4353 - accuracy: 0.8698\n",
      "Epoch 28/30\n",
      "326/326 [==============================] - 3s 9ms/step - loss: 0.4150 - accuracy: 0.8751\n",
      "Epoch 29/30\n",
      "326/326 [==============================] - 3s 10ms/step - loss: 0.3993 - accuracy: 0.8797\n",
      "Epoch 30/30\n",
      "326/326 [==============================] - 3s 10ms/step - loss: 0.3808 - accuracy: 0.8857\n"
     ]
    },
    {
     "data": {
      "text/plain": [
       "<keras.callbacks.History at 0x241624c1b10>"
      ]
     },
     "execution_count": 822,
     "metadata": {},
     "output_type": "execute_result"
    }
   ],
   "source": [
    "model.fit([X_train_encoder,X_train_decoder],Y_train,batch_size=16,epochs=30)"
   ]
  },
  {
   "cell_type": "code",
   "execution_count": 823,
   "id": "c4657f4c",
   "metadata": {},
   "outputs": [],
   "source": [
    "model.save('lstm_model.h5')"
   ]
  },
  {
   "cell_type": "code",
   "execution_count": 824,
   "id": "5214f4eb",
   "metadata": {},
   "outputs": [
    {
     "name": "stdout",
     "output_type": "stream",
     "text": [
      "41/41 [==============================] - 1s 4ms/step - loss: 0.4459 - accuracy: 0.8655\n",
      "Test loss: 0.44588130712509155\n",
      "Test accuracy: 0.8655410408973694\n"
     ]
    }
   ],
   "source": [
    "loss, accuracy = model.evaluate(x=[X_test_encoder,X_test_decoder], y=Y_test, verbose=1)\n",
    "print('Test loss:', loss)\n",
    "print('Test accuracy:', accuracy)"
   ]
  }
 ],
 "metadata": {
  "colab": {
   "name": "CS583_Assignment2.ipynb",
   "provenance": []
  },
  "kernelspec": {
   "display_name": "Python 3",
   "language": "python",
   "name": "python3"
  },
  "language_info": {
   "codemirror_mode": {
    "name": "ipython",
    "version": 3
   },
   "file_extension": ".py",
   "mimetype": "text/x-python",
   "name": "python",
   "nbconvert_exporter": "python",
   "pygments_lexer": "ipython3",
   "version": "3.10.5"
  },
  "vscode": {
   "interpreter": {
    "hash": "79f58b2da1d0ebeef0843b536b913fe6ecf5d6027e7f201d25bafe70c90b7910"
   }
  }
 },
 "nbformat": 4,
 "nbformat_minor": 5
}
